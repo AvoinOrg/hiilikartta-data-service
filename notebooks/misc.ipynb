{
 "cells": [
  {
   "cell_type": "code",
   "execution_count": 1,
   "metadata": {},
   "outputs": [],
   "source": [
    "import redis\n",
    "import json\n",
    "\n",
    "# Connect to Redis\n",
    "r = redis.Redis(\n",
    "    host='redis',  # or your Redis server's hostname\n",
    "    port=6379,         # default Redis port\n",
    ")"
   ]
  },
  {
   "cell_type": "code",
   "execution_count": 2,
   "metadata": {},
   "outputs": [
    {
     "data": {
      "text/plain": [
       "[b'startup_lock',\n",
       " b'saq:default:schedule',\n",
       " b'saq:default:sweep',\n",
       " b'saq:default:stats:10a92a7c-cb48-11ee-9d2c-0242ac1d0004',\n",
       " b'saq:default:stats:10ac59ae-cb48-11ee-b9cf-0242ac1d0004',\n",
       " b'saq:default:stats:10a91b86-cb48-11ee-ada5-0242ac1d0004',\n",
       " b'saq:default:stats',\n",
       " b'saq:default:incomplete',\n",
       " b'saq:job:default:cron:handle_finished_calcs']"
      ]
     },
     "execution_count": 2,
     "metadata": {},
     "output_type": "execute_result"
    }
   ],
   "source": [
    "r.keys('*')"
   ]
  },
  {
   "cell_type": "code",
   "execution_count": 3,
   "metadata": {},
   "outputs": [
    {
     "name": "stdout",
     "output_type": "stream",
     "text": [
      "b'saq:job:default:cron:handle_finished_calcs'\n"
     ]
    }
   ],
   "source": [
    "for key in r.scan_iter(\"saq:job:default:*\"):\n",
    "    print(key)"
   ]
  },
  {
   "cell_type": "code",
   "execution_count": 4,
   "metadata": {},
   "outputs": [],
   "source": [
    "stats_data = {}\n",
    "\n",
    "for key in r.scan_iter(\"saq:job:default:*\"):\n",
    "    # Determine the type of data stored at the key\n",
    "    key_type = r.type(key).decode('utf-8')\n",
    "    value = r.get(key)\n",
    "    \n",
    "    # Decode the key (if necessary) and store the retrieved data\n",
    "    decoded_key = key.decode('utf-8')\n",
    "    stats_data[decoded_key] = value\n",
    "\n",
    "    for key, value in stats_data.items():\n",
    "        data_str = value.decode('utf-8')\n",
    "        data_dict = json.loads(data_str)\n",
    "\n",
    "        if (data_dict['status'] == 'complete'):\n",
    "            print(f\"Job {key} completed\")\n",
    "        elif (data_dict['status'] == 'failed'):\n",
    "            print(f\"Job {key} failed\")\n",
    "        elif (data_dict['status'] == 'active'):\n",
    "            print(f\"Job {key} active\")"
   ]
  },
  {
   "cell_type": "code",
   "execution_count": 5,
   "metadata": {},
   "outputs": [
    {
     "ename": "KeyError",
     "evalue": "'saq:default:stats:409d3a14-c672-11ee-a06a-0242ac1d0004'",
     "output_type": "error",
     "traceback": [
      "\u001b[0;31m---------------------------------------------------------------------------\u001b[0m",
      "\u001b[0;31mKeyError\u001b[0m                                  Traceback (most recent call last)",
      "Cell \u001b[0;32mIn[5], line 1\u001b[0m\n\u001b[0;32m----> 1\u001b[0m data_bytes \u001b[38;5;241m=\u001b[39m \u001b[43mstats_data\u001b[49m\u001b[43m[\u001b[49m\u001b[38;5;124;43m'\u001b[39;49m\u001b[38;5;124;43msaq:default:stats:409d3a14-c672-11ee-a06a-0242ac1d0004\u001b[39;49m\u001b[38;5;124;43m'\u001b[39;49m\u001b[43m]\u001b[49m\n\u001b[1;32m      2\u001b[0m data_str \u001b[38;5;241m=\u001b[39m data_bytes\u001b[38;5;241m.\u001b[39mdecode(\u001b[38;5;124m'\u001b[39m\u001b[38;5;124mutf-8\u001b[39m\u001b[38;5;124m'\u001b[39m)\n\u001b[1;32m      3\u001b[0m data_dict \u001b[38;5;241m=\u001b[39m json\u001b[38;5;241m.\u001b[39mloads(data_str)\n",
      "\u001b[0;31mKeyError\u001b[0m: 'saq:default:stats:409d3a14-c672-11ee-a06a-0242ac1d0004'"
     ]
    }
   ],
   "source": [
    "data_bytes = stats_data['saq:default:stats:10a92a7c-cb48-11ee-9d2c-0242ac1d0004']\n",
    "data_str = data_bytes.decode('utf-8')\n",
    "data_dict = json.loads(data_str)"
   ]
  },
  {
   "cell_type": "code",
   "execution_count": 18,
   "metadata": {},
   "outputs": [
    {
     "data": {
      "text/plain": [
       "{'complete': 0, 'failed': 0, 'retried': 0, 'aborted': 0, 'uptime': 443679512}"
      ]
     },
     "execution_count": 18,
     "metadata": {},
     "output_type": "execute_result"
    }
   ],
   "source": [
    "data_dict"
   ]
  },
  {
   "cell_type": "code",
   "execution_count": 5,
   "metadata": {},
   "outputs": [],
   "source": [
    "next_task = r.lindex('my_queue', 0)"
   ]
  },
  {
   "cell_type": "code",
   "execution_count": 6,
   "metadata": {},
   "outputs": [],
   "source": [
    "next_task"
   ]
  },
  {
   "cell_type": "code",
   "execution_count": null,
   "metadata": {},
   "outputs": [],
   "source": []
  }
 ],
 "metadata": {
  "kernelspec": {
   "display_name": "hiilikartta-data-service-9TtSrW0h-py3.9",
   "language": "python",
   "name": "python3"
  },
  "language_info": {
   "codemirror_mode": {
    "name": "ipython",
    "version": 3
   },
   "file_extension": ".py",
   "mimetype": "text/x-python",
   "name": "python",
   "nbconvert_exporter": "python",
   "pygments_lexer": "ipython3",
   "version": "3.9.15"
  }
 },
 "nbformat": 4,
 "nbformat_minor": 2
}
