{
 "cells": [
  {
   "cell_type": "code",
   "execution_count": 16,
   "metadata": {},
   "outputs": [],
   "source": [
    "import redis\n",
    "import json\n",
    "import time\n",
    "\n",
    "# Connect to Redis\n",
    "r = redis.Redis(\n",
    "    host='redis',  # or your Redis server's hostname\n",
    "    port=6379,         # default Redis port\n",
    ")"
   ]
  },
  {
   "cell_type": "code",
   "execution_count": 9,
   "metadata": {},
   "outputs": [
    {
     "data": {
      "text/plain": [
       "[b'saq:default:schedule',\n",
       " b'saq:default:sweep',\n",
       " b'saq:default:stats:10a92a7c-cb48-11ee-9d2c-0242ac1d0004',\n",
       " b'saq:default:stats:10ac59ae-cb48-11ee-b9cf-0242ac1d0004',\n",
       " b'saq:default:stats:10a91b86-cb48-11ee-ada5-0242ac1d0004',\n",
       " b'saq:default:stats',\n",
       " b'saq:default:incomplete',\n",
       " b'saq:job:default:cron:handle_finished_calcs']"
      ]
     },
     "execution_count": 9,
     "metadata": {},
     "output_type": "execute_result"
    }
   ],
   "source": [
    "r.keys('*')"
   ]
  },
  {
   "cell_type": "code",
   "execution_count": 3,
   "metadata": {},
   "outputs": [
    {
     "name": "stdout",
     "output_type": "stream",
     "text": [
      "b'saq:job:default:cron:handle_finished_calcs'\n"
     ]
    }
   ],
   "source": [
    "for key in r.scan_iter(\"saq:job:default:*\"):\n",
    "    print(key)"
   ]
  },
  {
   "cell_type": "code",
   "execution_count": 14,
   "metadata": {},
   "outputs": [
    {
     "name": "stdout",
     "output_type": "stream",
     "text": [
      "Job saq:job:default:8fe3167c-cb48-11ee-ae11-0242ac1d0003 active\n",
      "Job saq:job:default:8fe3167c-cb48-11ee-ae11-0242ac1d0003 active\n"
     ]
    }
   ],
   "source": [
    "stats_data = {}\n",
    "\n",
    "for key in r.scan_iter(\"saq:job:default:*\"):\n",
    "    # Determine the type of data stored at the key\n",
    "    key_type = r.type(key).decode('utf-8')\n",
    "    value = r.get(key)\n",
    "    \n",
    "    # Decode the key (if necessary) and store the retrieved data\n",
    "    decoded_key = key.decode('utf-8')\n",
    "    stats_data[decoded_key] = value\n",
    "\n",
    "    for key, value in stats_data.items():\n",
    "        data_str = value.decode('utf-8')\n",
    "        data_dict = json.loads(data_str)\n",
    "\n",
    "        if (data_dict['status'] == 'complete'):\n",
    "            print(f\"Job {key} completed\")\n",
    "        elif (data_dict['status'] == 'failed'):\n",
    "            print(f\"Job {key} failed\")\n",
    "        elif (data_dict['status'] == 'active'):\n",
    "            print(f\"Job {key} active\")"
   ]
  },
  {
   "cell_type": "code",
   "execution_count": 22,
   "metadata": {},
   "outputs": [
    {
     "data": {
      "text/plain": [
       "1707922469183.0898"
      ]
     },
     "execution_count": 22,
     "metadata": {},
     "output_type": "execute_result"
    }
   ],
   "source": [
    "time.time() * 1000"
   ]
  },
  {
   "cell_type": "code",
   "execution_count": 1,
   "metadata": {},
   "outputs": [
    {
     "data": {
      "text/plain": [
       "86400"
      ]
     },
     "execution_count": 1,
     "metadata": {},
     "output_type": "execute_result"
    }
   ],
   "source": [
    "24 * 60 * 60"
   ]
  },
  {
   "cell_type": "code",
   "execution_count": 25,
   "metadata": {},
   "outputs": [
    {
     "data": {
      "text/plain": [
       "161.182"
      ]
     },
     "execution_count": 25,
     "metadata": {},
     "output_type": "execute_result"
    }
   ],
   "source": [
    "161182 / 1000"
   ]
  },
  {
   "cell_type": "code",
   "execution_count": 21,
   "metadata": {},
   "outputs": [
    {
     "data": {
      "text/plain": [
       "161182.79638671875"
      ]
     },
     "execution_count": 21,
     "metadata": {},
     "output_type": "execute_result"
    }
   ],
   "source": [
    "time.time() * 1000 - 1707922300719"
   ]
  },
  {
   "cell_type": "code",
   "execution_count": 15,
   "metadata": {},
   "outputs": [
    {
     "data": {
      "text/plain": [
       "{'saq:job:default:8fe3167c-cb48-11ee-ae11-0242ac1d0003': b'{\"function\": \"calculate_piece\", \"kwargs\": {\"ui_id\": \"d4ed5b10-2f1a-4c2a-a4e8-9a2d27a344af\"}, \"queue\": \"default\", \"key\": \"8fe3167c-cb48-11ee-ae11-0242ac1d0003\", \"timeout\": 172800, \"retries\": 3, \"attempts\": 1, \"queued\": 1707922300717, \"started\": 1707922300719, \"touched\": 1707922300719, \"status\": \"active\"}',\n",
       " 'saq:job:default:cron:handle_finished_calcs': b'{\"function\": \"handle_finished_calcs\", \"queue\": \"default\", \"key\": \"cron:handle_finished_calcs\", \"scheduled\": 1707922320, \"queued\": 1707922260753, \"status\": \"queued\"}'}"
      ]
     },
     "execution_count": 15,
     "metadata": {},
     "output_type": "execute_result"
    }
   ],
   "source": [
    "stats_data"
   ]
  },
  {
   "cell_type": "code",
   "execution_count": 12,
   "metadata": {},
   "outputs": [
    {
     "ename": "KeyError",
     "evalue": "'saq:default:stats:10ac59ae-cb48-11ee-b9cf-0242ac1d0004'",
     "output_type": "error",
     "traceback": [
      "\u001b[0;31m---------------------------------------------------------------------------\u001b[0m",
      "\u001b[0;31mKeyError\u001b[0m                                  Traceback (most recent call last)",
      "Cell \u001b[0;32mIn[12], line 1\u001b[0m\n\u001b[0;32m----> 1\u001b[0m data_bytes \u001b[38;5;241m=\u001b[39m \u001b[43mstats_data\u001b[49m\u001b[43m[\u001b[49m\u001b[38;5;124;43m'\u001b[39;49m\u001b[38;5;124;43msaq:default:stats:10ac59ae-cb48-11ee-b9cf-0242ac1d0004\u001b[39;49m\u001b[38;5;124;43m'\u001b[39;49m\u001b[43m]\u001b[49m\n\u001b[1;32m      2\u001b[0m data_str \u001b[38;5;241m=\u001b[39m data_bytes\u001b[38;5;241m.\u001b[39mdecode(\u001b[38;5;124m'\u001b[39m\u001b[38;5;124mutf-8\u001b[39m\u001b[38;5;124m'\u001b[39m)\n\u001b[1;32m      3\u001b[0m data_dict \u001b[38;5;241m=\u001b[39m json\u001b[38;5;241m.\u001b[39mloads(data_str)\n",
      "\u001b[0;31mKeyError\u001b[0m: 'saq:default:stats:10ac59ae-cb48-11ee-b9cf-0242ac1d0004'"
     ]
    }
   ],
   "source": [
    "data_bytes = stats_data['saq:default:stats:10ac59ae-cb48-11ee-b9cf-0242ac1d0004']\n",
    "data_str = data_bytes.decode('utf-8')\n",
    "data_dict = json.loads(data_str)"
   ]
  },
  {
   "cell_type": "code",
   "execution_count": 7,
   "metadata": {},
   "outputs": [
    {
     "data": {
      "text/plain": [
       "{'function': 'handle_finished_calcs',\n",
       " 'queue': 'default',\n",
       " 'key': 'cron:handle_finished_calcs',\n",
       " 'scheduled': 1707922140,\n",
       " 'queued': 1707922080418,\n",
       " 'status': 'queued'}"
      ]
     },
     "execution_count": 7,
     "metadata": {},
     "output_type": "execute_result"
    }
   ],
   "source": [
    "data_dict"
   ]
  },
  {
   "cell_type": "code",
   "execution_count": 5,
   "metadata": {},
   "outputs": [],
   "source": [
    "next_task = r.lindex('my_queue', 0)"
   ]
  },
  {
   "cell_type": "code",
   "execution_count": 6,
   "metadata": {},
   "outputs": [],
   "source": [
    "next_task"
   ]
  },
  {
   "cell_type": "code",
   "execution_count": null,
   "metadata": {},
   "outputs": [],
   "source": []
  }
 ],
 "metadata": {
  "kernelspec": {
   "display_name": "hiilikartta-data-service-9TtSrW0h-py3.9",
   "language": "python",
   "name": "python3"
  },
  "language_info": {
   "codemirror_mode": {
    "name": "ipython",
    "version": 3
   },
   "file_extension": ".py",
   "mimetype": "text/x-python",
   "name": "python",
   "nbconvert_exporter": "python",
   "pygments_lexer": "ipython3",
   "version": "3.9.15"
  }
 },
 "nbformat": 4,
 "nbformat_minor": 2
}
